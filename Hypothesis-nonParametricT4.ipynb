{
 "cells": [
  {
   "cell_type": "markdown",
   "metadata": {},
   "source": [
    "NonParametric Single T Test"
   ]
  },
  {
   "cell_type": "code",
   "execution_count": 1,
   "metadata": {},
   "outputs": [],
   "source": [
    "import numpy as np\n",
    "\n",
    "measurements = np.array([17, 160, 234, 149, 145, 107, 197, 75, 201, 225, 211, 119, \n",
    "                     157, 145, 127, 244, 163, 114, 145, 65, 112, 185, 202, 146, \n",
    "                     203, 224, 203, 114, 188, 156, 187, 154, 177, 95, 165, 50, \n",
    "                     110, 216, 138, 151, 166, 135, 155, 84, 251, 173, 131, 207, \n",
    "                     121, 120])"
   ]
  },
  {
   "cell_type": "code",
   "execution_count": 3,
   "metadata": {},
   "outputs": [
    {
     "data": {
      "text/plain": [
       "(-7.0, 0.06490864707227217)"
      ]
     },
     "execution_count": 3,
     "metadata": {},
     "output_type": "execute_result"
    }
   ],
   "source": [
    "from statsmodels.stats.descriptivestats import sign_test\n",
    "sign_test(measurements, 170)"
   ]
  },
  {
   "cell_type": "markdown",
   "metadata": {},
   "source": [
    "Independent Two Sample Test"
   ]
  },
  {
   "cell_type": "code",
   "execution_count": 1,
   "metadata": {},
   "outputs": [
    {
     "data": {
      "text/plain": [
       "MannwhitneyuResult(statistic=88.0, pvalue=1.398228541943916e-07)"
      ]
     },
     "execution_count": 1,
     "metadata": {},
     "output_type": "execute_result"
    }
   ],
   "source": [
    "import scipy.stats as stats\n",
    "#data type 1\n",
    "import pandas as pd\n",
    "\n",
    "A = pd.DataFrame([30, 27, 21, 27, 29, 30, 20, 20, 27, 32, 35, 22, 24, 23, 25, 27, \n",
    "                  23, 27, 23, 25, 21, 18, 24, 26, 33, 26, 27, 28, 19, 25])\n",
    "\n",
    "B = pd.DataFrame([37, 39, 31, 31, 34, 38, 30, 36, 29, 28, 38, 28, 37, 37, 30, 32, \n",
    "                  31, 31, 27, 32, 33, 33, 31, 32, 33, 26, 32, 33, 29])\n",
    "\n",
    "A_B = pd.concat([A, B], axis=1)\n",
    "A_B.columns = [\"A\", \"B\"]\n",
    "\n",
    "A_B.head()\n",
    "\n",
    "stats.mannwhitneyu(A_B[\"A\"].dropna(), A_B[\"B\"].dropna())"
   ]
  },
  {
   "cell_type": "code",
   "execution_count": null,
   "metadata": {},
   "outputs": [],
   "source": []
  }
 ],
 "metadata": {
  "kernelspec": {
   "display_name": "base",
   "language": "python",
   "name": "python3"
  },
  "language_info": {
   "codemirror_mode": {
    "name": "ipython",
    "version": 3
   },
   "file_extension": ".py",
   "mimetype": "text/x-python",
   "name": "python",
   "nbconvert_exporter": "python",
   "pygments_lexer": "ipython3",
   "version": "3.12.7"
  }
 },
 "nbformat": 4,
 "nbformat_minor": 2
}
