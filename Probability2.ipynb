{
 "cells": [
  {
   "cell_type": "markdown",
   "metadata": {},
   "source": [
    "PROBABILITY"
   ]
  },
  {
   "cell_type": "markdown",
   "metadata": {},
   "source": [
    "Bernoulli discrete distribution"
   ]
  },
  {
   "cell_type": "code",
   "execution_count": 1,
   "metadata": {},
   "outputs": [
    {
     "data": {
      "text/plain": [
       "(0.6, 0.4)"
      ]
     },
     "execution_count": 1,
     "metadata": {},
     "output_type": "execute_result"
    }
   ],
   "source": [
    "from scipy.stats import bernoulli\n",
    "p = 0.4\n",
    "rv = bernoulli(p)\n",
    "#like toss of a coin\n",
    "rv.pmf(0), rv.pmf(1)"
   ]
  },
  {
   "cell_type": "markdown",
   "metadata": {},
   "source": [
    "Law of Large Numbers"
   ]
  },
  {
   "cell_type": "code",
   "execution_count": 19,
   "metadata": {},
   "outputs": [
    {
     "name": "stdout",
     "output_type": "stream",
     "text": [
      "num of test:  2 --> mean: 50.00\n",
      "num of test:  4 --> mean: 25.00\n",
      "num of test:  8 --> mean: 62.50\n",
      "num of test:  16 --> mean: 68.75\n",
      "num of test:  32 --> mean: 43.75\n",
      "num of test:  64 --> mean: 50.00\n",
      "num of test:  128 --> mean: 46.88\n",
      "num of test:  256 --> mean: 44.53\n",
      "num of test:  512 --> mean: 56.45\n",
      "num of test:  1024 --> mean: 48.24\n",
      "num of test:  2048 --> mean: 51.46\n",
      "num of test:  4096 --> mean: 48.54\n",
      "num of test:  8192 --> mean: 50.23\n",
      "num of test:  16384 --> mean: 49.34\n",
      "num of test:  32768 --> mean: 50.08\n",
      "num of test:  65536 --> mean: 50.33\n",
      "num of test:  131072 --> mean: 49.86\n",
      "num of test:  262144 --> mean: 50.01\n",
      "num of test:  524288 --> mean: 50.05\n",
      "num of test:  1048576 --> mean: 50.03\n"
     ]
    }
   ],
   "source": [
    "import numpy as np\n",
    "rng = np.random.RandomState(120)\n",
    "for i in np.arange(1, 21):\n",
    "    num_of_tests = 2**i\n",
    "    tosses = rng.randint(0, 2, num_of_tests)\n",
    "    print(f'num of test: ', num_of_tests,  '--> mean: %.2f' % (tosses.mean()*100))\n",
    "    \n"
   ]
  },
  {
   "cell_type": "markdown",
   "metadata": {},
   "source": [
    "Binomial Distribution"
   ]
  },
  {
   "cell_type": "code",
   "execution_count": 20,
   "metadata": {},
   "outputs": [
    {
     "data": {
      "text/plain": [
       "(0.36972963764972666, 0.002897787123761478, 7.006035693977194e-08)"
      ]
     },
     "execution_count": 20,
     "metadata": {},
     "output_type": "execute_result"
    }
   ],
   "source": [
    "from scipy.stats import binom\n",
    "n = 100\n",
    "p = 0.01\n",
    "rv = binom(n, p)\n",
    "rv.pmf(1), rv.pmf(5), rv.pmf(10)"
   ]
  },
  {
   "cell_type": "markdown",
   "metadata": {},
   "source": [
    "Poisson Distribution"
   ]
  },
  {
   "cell_type": "markdown",
   "metadata": {},
   "source": [
    "Calculating the mistake probability of an ad entry"
   ]
  },
  {
   "cell_type": "code",
   "execution_count": null,
   "metadata": {},
   "outputs": [
    {
     "data": {
      "text/plain": [
       "(0.9048374180359595, 0.00015080623633932676, 7.54031181696634e-08)"
      ]
     },
     "execution_count": 22,
     "metadata": {},
     "output_type": "execute_result"
    }
   ],
   "source": [
    "# lambda : 0.1, Poisson distribution\n",
    "# experiment: 1 year\n",
    "# 0 mistake, 3 mistake, 5 mistake probability?\n",
    "\n",
    "from scipy.stats import poisson\n",
    "rv = poisson(mu=0.1)\n",
    "rv.pmf(0), rv.pmf(3), rv.pmf(5)"
   ]
  },
  {
   "cell_type": "markdown",
   "metadata": {},
   "source": [
    "Normal Distribution"
   ]
  },
  {
   "cell_type": "code",
   "execution_count": 25,
   "metadata": {},
   "outputs": [
    {
     "data": {
      "text/plain": [
       "0.02275013194817921"
      ]
     },
     "execution_count": 25,
     "metadata": {},
     "output_type": "execute_result"
    }
   ],
   "source": [
    "#80k sales mean, 5k std\n",
    "# 90k probability?\n",
    "\n",
    "from scipy.stats import norm\n",
    "\n",
    "1-norm.cdf(90, 80, 5)"
   ]
  },
  {
   "cell_type": "code",
   "execution_count": 27,
   "metadata": {},
   "outputs": [
    {
     "data": {
      "text/plain": [
       "0.9772498680518208"
      ]
     },
     "execution_count": 27,
     "metadata": {},
     "output_type": "execute_result"
    }
   ],
   "source": [
    "# 70k probability?\n",
    "1-norm.cdf(70, 80, 5)"
   ]
  },
  {
   "cell_type": "code",
   "execution_count": 28,
   "metadata": {},
   "outputs": [
    {
     "data": {
      "text/plain": [
       "0.13590512198327787"
      ]
     },
     "execution_count": 28,
     "metadata": {},
     "output_type": "execute_result"
    }
   ],
   "source": [
    "#85k 90k probability?\n",
    "norm.cdf(90, 80, 5) - norm.cdf(85, 80, 5)"
   ]
  },
  {
   "cell_type": "code",
   "execution_count": null,
   "metadata": {},
   "outputs": [],
   "source": []
  }
 ],
 "metadata": {
  "kernelspec": {
   "display_name": "base",
   "language": "python",
   "name": "python3"
  },
  "language_info": {
   "codemirror_mode": {
    "name": "ipython",
    "version": 3
   },
   "file_extension": ".py",
   "mimetype": "text/x-python",
   "name": "python",
   "nbconvert_exporter": "python",
   "pygments_lexer": "ipython3",
   "version": "3.12.7"
  }
 },
 "nbformat": 4,
 "nbformat_minor": 2
}
